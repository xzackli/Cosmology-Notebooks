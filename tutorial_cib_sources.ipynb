{
 "cells": [
  {
   "cell_type": "code",
   "execution_count": 1,
   "metadata": {
    "tags": []
   },
   "outputs": [],
   "source": [
    "import h5py"
   ]
  },
  {
   "cell_type": "markdown",
   "metadata": {},
   "source": [
    "The sources are split into two categories: central galaxies and satellites, with fluxes always in MJy or MJy/sr. \n",
    "\n",
    "The files 'centrals.h5', 'satellites.h5' contain angle and redshift information about the central sources and satellites."
   ]
  },
  {
   "cell_type": "code",
   "execution_count": 2,
   "metadata": {
    "tags": []
   },
   "outputs": [
    {
     "name": "stdout",
     "output_type": "stream",
     "text": [
      "<KeysViewHDF5 ['phi', 'redshift', 'theta']>\n"
     ]
    }
   ],
   "source": [
    "sourcedir = \"/pscratch/sd/x/xzackli/cib_flux_cut/sources/\"\n",
    "f = h5py.File(sourcedir + 'centrals.h5', 'r')\n",
    "print(f.keys())"
   ]
  },
  {
   "cell_type": "markdown",
   "metadata": {},
   "source": [
    "Source flux is in files named like `cen_chunk1_flux_545_.h5`. "
   ]
  },
  {
   "cell_type": "code",
   "execution_count": 3,
   "metadata": {
    "tags": []
   },
   "outputs": [
    {
     "name": "stdout",
     "output_type": "stream",
     "text": [
      "<KeysViewHDF5 ['flux']>\n"
     ]
    }
   ],
   "source": [
    "freqs = [\n",
    "    \"18.7\", \"21.6\", \"24.5\", \"27.3\", \"30.0\", \"35.9\", \"41.7\", \"44.0\", \"47.4\",\n",
    "    \"63.9\", \"67.8\", \"70.0\", \"73.7\", \"79.6\", \"90.2\", \"100\", \"111\", \"129\", \"143\",\n",
    "    \"153\", \"164\", \"189\", \"210\", \"217\", \"232\", \"256\", \"275\", \"294\", \"306\", \"314\",\n",
    "    \"340\", \"353\", \"375\", \"409\", \"467\", \"525\", \"545\", \"584\", \"643\", \"729\", \"817\",\n",
    "    \"857\", \"906\", \"994\", \"1080\"\n",
    "]\n",
    "\n",
    "f = h5py.File(sourcedir + 'satellites_flux_353.h5', 'r')\n",
    "print(f.keys())"
   ]
  },
  {
   "cell_type": "markdown",
   "metadata": {},
   "source": [
    "To use these `h5py` files, you just need to index them with the key."
   ]
  },
  {
   "cell_type": "code",
   "execution_count": 4,
   "metadata": {
    "tags": []
   },
   "outputs": [
    {
     "data": {
      "text/plain": [
       "1.5451863e-07"
      ]
     },
     "execution_count": 4,
     "metadata": {},
     "output_type": "execute_result"
    }
   ],
   "source": [
    "f['flux'][0]  # first central halo flux at 353"
   ]
  },
  {
   "cell_type": "code",
   "execution_count": 5,
   "metadata": {
    "tags": []
   },
   "outputs": [
    {
     "data": {
      "text/plain": [
       "0.0009881244"
      ]
     },
     "execution_count": 5,
     "metadata": {},
     "output_type": "execute_result"
    }
   ],
   "source": [
    "import numpy as np\n",
    "np.sum(f['flux'])"
   ]
  },
  {
   "cell_type": "code",
   "execution_count": null,
   "metadata": {},
   "outputs": [],
   "source": []
  }
 ],
 "metadata": {
  "interpreter": {
   "hash": "4fc11dc5fd0f394376a4f7cce8160f0497c79d7e181cec45faf2a8fcd9a34e1c"
  },
  "kernelspec": {
   "display_name": "Python 3 (ipykernel)",
   "language": "python",
   "name": "python3"
  },
  "language_info": {
   "codemirror_mode": {
    "name": "ipython",
    "version": 3
   },
   "file_extension": ".py",
   "mimetype": "text/x-python",
   "name": "python",
   "nbconvert_exporter": "python",
   "pygments_lexer": "ipython3",
   "version": "3.9.7"
  }
 },
 "nbformat": 4,
 "nbformat_minor": 4
}
