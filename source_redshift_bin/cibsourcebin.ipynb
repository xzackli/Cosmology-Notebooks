{
 "cells": [
  {
   "cell_type": "code",
   "execution_count": 1,
   "id": "e0855f72",
   "metadata": {},
   "outputs": [],
   "source": [
    "using HDF5\n",
    "using Plots\n",
    "using DelimitedFiles"
   ]
  },
  {
   "cell_type": "code",
   "execution_count": 2,
   "id": "bcb6412b",
   "metadata": {},
   "outputs": [],
   "source": [
    "# fid = h5open(filename, mode)"
   ]
  },
  {
   "cell_type": "code",
   "execution_count": 3,
   "id": "8f0680a6",
   "metadata": {},
   "outputs": [
    {
     "data": {
      "text/plain": [
       "bin (generic function with 1 method)"
      ]
     },
     "execution_count": 3,
     "metadata": {},
     "output_type": "execute_result"
    }
   ],
   "source": [
    "function bin(z, bins)  # bins must be increasing\n",
    "    min_bin, min_i = findmin(bins)\n",
    "    max_bin, max_i = findmax(bins)\n",
    "    if z < min_bin\n",
    "        return min_i\n",
    "    elseif z > max_bin\n",
    "        return max_i\n",
    "    end\n",
    "    \n",
    "    for (i, b) in enumerate(bins)\n",
    "        if z < b\n",
    "            return i\n",
    "        end\n",
    "    end\n",
    "    \n",
    "    return length(bins)\n",
    "end"
   ]
  },
  {
   "cell_type": "code",
   "execution_count": 4,
   "id": "da245036",
   "metadata": {},
   "outputs": [
    {
     "data": {
      "text/plain": [
       "sum_in_bin (generic function with 1 method)"
      ]
     },
     "execution_count": 4,
     "metadata": {},
     "output_type": "execute_result"
    }
   ],
   "source": [
    "function sum_in_bin(redshifts, fluxes, bins)\n",
    "    results = zeros(length(bins))\n",
    "    for (z, f) in zip(redshifts, fluxes)\n",
    "        i = bin(z, bins)\n",
    "        results[i] += f\n",
    "    end\n",
    "    return results\n",
    "end"
   ]
  },
  {
   "cell_type": "code",
   "execution_count": 5,
   "id": "a53272c6",
   "metadata": {},
   "outputs": [],
   "source": [
    "z_bins = collect(0.0:0.1:5.0)\n",
    "z_mids = (z_bins) .+ 0.1 / 2;\n",
    "\n",
    "# freq = \"353\""
   ]
  },
  {
   "cell_type": "code",
   "execution_count": 6,
   "id": "3a5a19a3",
   "metadata": {},
   "outputs": [
    {
     "data": {
      "text/plain": [
       "genbin (generic function with 1 method)"
      ]
     },
     "execution_count": 6,
     "metadata": {},
     "output_type": "execute_result"
    }
   ],
   "source": [
    "function genbin(redshiftname, z_bins, freq)\n",
    "    fluxname = replace(redshiftname, \".h5\"=>\"_flux_$(freq).h5\")\n",
    "    redshifts =  read(h5open(redshiftname, \"r\"), \"redshift\")\n",
    "    fluxes = read(h5open(fluxname, \"r\"), \"flux\")\n",
    "    return sum_in_bin(redshifts, fluxes, z_bins)\n",
    "end"
   ]
  },
  {
   "cell_type": "code",
   "execution_count": 7,
   "id": "069722e3",
   "metadata": {},
   "outputs": [
    {
     "data": {
      "text/plain": [
       "threadf (generic function with 1 method)"
      ]
     },
     "execution_count": 7,
     "metadata": {},
     "output_type": "execute_result"
    }
   ],
   "source": [
    "sourcedir = \"/global/cscratch1/sd/xzackli/cib_sources/sources/\"\n",
    "\n",
    "\n",
    "function threadf(files, z_bins, freq)\n",
    "    xf = [[] for f in files]\n",
    "    Threads.@threads for i in 1:length(files)\n",
    "        f = files[i]\n",
    "        xf[i] = genbin(f, z_bins, freq)\n",
    "    end\n",
    "    return xf\n",
    "end\n"
   ]
  },
  {
   "cell_type": "code",
   "execution_count": 8,
   "id": "ac6f3083",
   "metadata": {},
   "outputs": [],
   "source": [
    "for freq in [\"143\", \"217\", \"353\", \"545\"]\n",
    "    results = threadf(\n",
    "        [\n",
    "            \"/global/cscratch1/sd/xzackli/cib_sources/sources/\" * s for s in \n",
    "            [\"cen_chunk1.h5\", \"cen_chunk2.h5\", \"sat_chunk1.h5\", \"sat_chunk2.h5\"]\n",
    "        ], z_bins, freq\n",
    "    )\n",
    "    flux_sum = sum(results)\n",
    "    open(\"$(freq)_source_counts.txt\", \"w\") do io\n",
    "       write(io, \"# z_bin_left flux_sum\\n\")\n",
    "       writedlm(io, [z_bins flux_sum])\n",
    "    end\n",
    "end"
   ]
  },
  {
   "cell_type": "code",
   "execution_count": null,
   "id": "70322b49",
   "metadata": {},
   "outputs": [],
   "source": []
  }
 ],
 "metadata": {
  "kernelspec": {
   "display_name": "Julia t32 1.7.2",
   "language": "julia",
   "name": "julia-t32-1.7"
  },
  "language_info": {
   "file_extension": ".jl",
   "mimetype": "application/julia",
   "name": "julia",
   "version": "1.7.2"
  }
 },
 "nbformat": 4,
 "nbformat_minor": 5
}
