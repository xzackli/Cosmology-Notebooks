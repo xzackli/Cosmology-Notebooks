{
 "cells": [
  {
   "cell_type": "code",
   "execution_count": null,
   "id": "283ff7d4-2963-4f9f-8f2c-4ceaa682d7fd",
   "metadata": {
    "tags": []
   },
   "outputs": [],
   "source": [
    "import healpy as hp\n",
    "import matplotlib.pyplot as plt\n",
    "import fitsio\n",
    "%matplotlib inline\n",
    "%config InlineBackend.figure_format='retina'\n",
    "\n",
    "mc_sr = \"0000\"\n",
    "freq = \"143\"\n",
    "\n",
    "map_febecop_lensed = hp.read_map(f\"/global/cfs/cdirs/planck/data/ffp10/mc_cmb/{freq}/\" + \\\n",
    "    f\"febecop_ffp10_lensed_scl_cmb_143_mc_{mc_sr}.fits\")\n",
    "alm_febecop_lensed = hp.map2alm(map_febecop_lensed)\n",
    "lensed_input_alm = hp.read_alm(f\"/global/cfs/cdirs/planck/data/ffp10/sky/CMB/mc/scl/lensed/{freq}/\" + \n",
    "    f\"ffp10_lensed_scl_cmb_{freq}_alm_mc_{mc_sr}.fits\").copy()  # endian problems, copy needed\n",
    "bl = fitsio.read(\"/global/cfs/cdirs/sobs/users/xzackli/\" + \n",
    "                 \"BeamWf_HFI_R3.01/Bl_T_R3.01_fullsky_143x143.fits\")['TEMPERATURE']"
   ]
  },
  {
   "cell_type": "code",
   "execution_count": null,
   "id": "84f0fce7-21fc-4288-b007-84c2b9257bd1",
   "metadata": {
    "tags": []
   },
   "outputs": [],
   "source": [
    "cl_febecop = hp.alm2cl(alm_febecop_lensed)\n",
    "cl_input = hp.alm2cl(lensed_input_alm)"
   ]
  },
  {
   "cell_type": "code",
   "execution_count": null,
   "id": "ee3814c3-6a84-4dab-bfb5-3be34f99b0a9",
   "metadata": {
    "tags": []
   },
   "outputs": [],
   "source": [
    "plt.figure(figsize=(5,3))\n",
    "plt.plot(cl_input, label=\"input alm\")\n",
    "plt.plot(cl_input[:4001] * bl**2, label=\"input * Bl^2\")\n",
    "plt.plot(cl_febecop, label=\"febecop\", lw=1)\n",
    "\n",
    "plt.legend()\n",
    "plt.yscale(\"log\")\n",
    "plt.xlim(0,4000)"
   ]
  },
  {
   "cell_type": "code",
   "execution_count": null,
   "id": "252d6685-6b84-4388-8e76-fa6517ed0517",
   "metadata": {},
   "outputs": [],
   "source": []
  }
 ],
 "metadata": {
  "kernelspec": {
   "display_name": "healpy",
   "language": "python",
   "name": "healpy"
  },
  "language_info": {
   "codemirror_mode": {
    "name": "ipython",
    "version": 3
   },
   "file_extension": ".py",
   "mimetype": "text/x-python",
   "name": "python",
   "nbconvert_exporter": "python",
   "pygments_lexer": "ipython3",
   "version": "3.11.5"
  }
 },
 "nbformat": 4,
 "nbformat_minor": 5
}
